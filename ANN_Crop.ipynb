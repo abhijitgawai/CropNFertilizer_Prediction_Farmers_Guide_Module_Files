{
 "cells": [
  {
   "cell_type": "code",
   "execution_count": 1,
   "metadata": {},
   "outputs": [],
   "source": [
    "import pandas as pd\n",
    "import numpy as np\n",
    "import matplotlib.pyplot as plt\n",
    "import seaborn as sns"
   ]
  },
  {
   "cell_type": "code",
   "execution_count": 2,
   "metadata": {},
   "outputs": [],
   "source": [
    "import tensorflow as tf\n",
    "from tensorflow.keras.models import Sequential\n",
    "from tensorflow.keras.layers import Dense, Activation,Dropout"
   ]
  },
  {
   "cell_type": "code",
   "execution_count": 5,
   "metadata": {},
   "outputs": [
    {
     "data": {
      "text/html": [
       "<div>\n",
       "<style scoped>\n",
       "    .dataframe tbody tr th:only-of-type {\n",
       "        vertical-align: middle;\n",
       "    }\n",
       "\n",
       "    .dataframe tbody tr th {\n",
       "        vertical-align: top;\n",
       "    }\n",
       "\n",
       "    .dataframe thead th {\n",
       "        text-align: right;\n",
       "    }\n",
       "</style>\n",
       "<table border=\"1\" class=\"dataframe\">\n",
       "  <thead>\n",
       "    <tr style=\"text-align: right;\">\n",
       "      <th></th>\n",
       "      <th>N</th>\n",
       "      <th>P</th>\n",
       "      <th>K</th>\n",
       "      <th>temperature</th>\n",
       "      <th>humidity</th>\n",
       "      <th>ph</th>\n",
       "      <th>rainfall</th>\n",
       "      <th>label</th>\n",
       "    </tr>\n",
       "  </thead>\n",
       "  <tbody>\n",
       "    <tr>\n",
       "      <th>0</th>\n",
       "      <td>90</td>\n",
       "      <td>42</td>\n",
       "      <td>43</td>\n",
       "      <td>20.879744</td>\n",
       "      <td>82.002744</td>\n",
       "      <td>6.502985</td>\n",
       "      <td>202.935536</td>\n",
       "      <td>rice</td>\n",
       "    </tr>\n",
       "    <tr>\n",
       "      <th>1</th>\n",
       "      <td>85</td>\n",
       "      <td>58</td>\n",
       "      <td>41</td>\n",
       "      <td>21.770462</td>\n",
       "      <td>80.319644</td>\n",
       "      <td>7.038096</td>\n",
       "      <td>226.655537</td>\n",
       "      <td>rice</td>\n",
       "    </tr>\n",
       "    <tr>\n",
       "      <th>2</th>\n",
       "      <td>60</td>\n",
       "      <td>55</td>\n",
       "      <td>44</td>\n",
       "      <td>23.004459</td>\n",
       "      <td>82.320763</td>\n",
       "      <td>7.840207</td>\n",
       "      <td>263.964248</td>\n",
       "      <td>rice</td>\n",
       "    </tr>\n",
       "    <tr>\n",
       "      <th>3</th>\n",
       "      <td>74</td>\n",
       "      <td>35</td>\n",
       "      <td>40</td>\n",
       "      <td>26.491096</td>\n",
       "      <td>80.158363</td>\n",
       "      <td>6.980401</td>\n",
       "      <td>242.864034</td>\n",
       "      <td>rice</td>\n",
       "    </tr>\n",
       "    <tr>\n",
       "      <th>4</th>\n",
       "      <td>78</td>\n",
       "      <td>42</td>\n",
       "      <td>42</td>\n",
       "      <td>20.130175</td>\n",
       "      <td>81.604873</td>\n",
       "      <td>7.628473</td>\n",
       "      <td>262.717340</td>\n",
       "      <td>rice</td>\n",
       "    </tr>\n",
       "  </tbody>\n",
       "</table>\n",
       "</div>"
      ],
      "text/plain": [
       "    N   P   K  temperature   humidity        ph    rainfall label\n",
       "0  90  42  43    20.879744  82.002744  6.502985  202.935536  rice\n",
       "1  85  58  41    21.770462  80.319644  7.038096  226.655537  rice\n",
       "2  60  55  44    23.004459  82.320763  7.840207  263.964248  rice\n",
       "3  74  35  40    26.491096  80.158363  6.980401  242.864034  rice\n",
       "4  78  42  42    20.130175  81.604873  7.628473  262.717340  rice"
      ]
     },
     "execution_count": 5,
     "metadata": {},
     "output_type": "execute_result"
    }
   ],
   "source": [
    "df = pd.read_csv('Crop_recommendation.csv')\n",
    "df.head()"
   ]
  },
  {
   "cell_type": "code",
   "execution_count": 6,
   "metadata": {
    "scrolled": false
   },
   "outputs": [],
   "source": [
    "from sklearn.preprocessing import LabelEncoder\n",
    "\n",
    "lb_make = LabelEncoder()\n",
    "df[\"make\"] = lb_make.fit_transform(df[\"label\"])"
   ]
  },
  {
   "cell_type": "code",
   "execution_count": 7,
   "metadata": {},
   "outputs": [],
   "source": [
    "X = df.drop(['label','make'],axis=1)\n",
    "y = df['make']"
   ]
  },
  {
   "cell_type": "code",
   "execution_count": 8,
   "metadata": {},
   "outputs": [],
   "source": [
    "from sklearn.model_selection import train_test_split"
   ]
  },
  {
   "cell_type": "code",
   "execution_count": 9,
   "metadata": {},
   "outputs": [],
   "source": [
    "X_train, X_test, y_train, y_test = train_test_split(X,y,test_size=0.25,random_state=42)"
   ]
  },
  {
   "cell_type": "code",
   "execution_count": 10,
   "metadata": {},
   "outputs": [
    {
     "name": "stdout",
     "output_type": "stream",
     "text": [
      "WARNING:tensorflow:From C:\\Users\\ABHI\\Anaconda3\\lib\\site-packages\\tensorflow\\python\\ops\\resource_variable_ops.py:435: colocate_with (from tensorflow.python.framework.ops) is deprecated and will be removed in a future version.\n",
      "Instructions for updating:\n",
      "Colocations handled automatically by placer.\n"
     ]
    }
   ],
   "source": [
    "model = Sequential()\n",
    "\n",
    "model.add(Dense(units=7,input_dim=7, activation='relu'))\n",
    "\n",
    "model.add(Dense(units=14,activation='relu'))\n",
    "\n",
    "model.add(Dense(units=22,activation='softmax'))\n",
    "\n",
    "model.compile(loss='sparse_categorical_crossentropy',optimizer='sgd',metrics=['accuracy'])"
   ]
  },
  {
   "cell_type": "code",
   "execution_count": 11,
   "metadata": {},
   "outputs": [
    {
     "name": "stdout",
     "output_type": "stream",
     "text": [
      "_________________________________________________________________\n",
      "Layer (type)                 Output Shape              Param #   \n",
      "=================================================================\n",
      "dense (Dense)                (None, 7)                 56        \n",
      "_________________________________________________________________\n",
      "dense_1 (Dense)              (None, 14)                112       \n",
      "_________________________________________________________________\n",
      "dense_2 (Dense)              (None, 22)                330       \n",
      "=================================================================\n",
      "Total params: 498\n",
      "Trainable params: 498\n",
      "Non-trainable params: 0\n",
      "_________________________________________________________________\n"
     ]
    }
   ],
   "source": [
    "model.summary()"
   ]
  },
  {
   "cell_type": "code",
   "execution_count": 12,
   "metadata": {},
   "outputs": [
    {
     "name": "stdout",
     "output_type": "stream",
     "text": [
      "Epoch 1/100\n",
      "1650/1650 [==============================] - 0s 257us/sample - loss: 7.1579 - acc: 0.0745\n",
      "Epoch 2/100\n",
      "1650/1650 [==============================] - 0s 44us/sample - loss: 4.0955 - acc: 0.0867\n",
      "Epoch 3/100\n",
      "1650/1650 [==============================] - 0s 48us/sample - loss: 4.0132 - acc: 0.0958\n",
      "Epoch 4/100\n",
      "1650/1650 [==============================] - 0s 56us/sample - loss: 3.8799 - acc: 0.1606\n",
      "Epoch 5/100\n",
      "1650/1650 [==============================] - 0s 46us/sample - loss: 3.7792 - acc: 0.2309\n",
      "Epoch 6/100\n",
      "1650/1650 [==============================] - 0s 50us/sample - loss: 3.6803 - acc: 0.2570\n",
      "Epoch 7/100\n",
      "1650/1650 [==============================] - 0s 48us/sample - loss: 3.6036 - acc: 0.2679\n",
      "Epoch 8/100\n",
      "1650/1650 [==============================] - 0s 42us/sample - loss: 3.5363 - acc: 0.2618\n",
      "Epoch 9/100\n",
      "1650/1650 [==============================] - 0s 51us/sample - loss: 3.5035 - acc: 0.2861\n",
      "Epoch 10/100\n",
      "1650/1650 [==============================] - 0s 30us/sample - loss: 3.4568 - acc: 0.2994\n",
      "Epoch 11/100\n",
      "1650/1650 [==============================] - 0s 33us/sample - loss: 3.4335 - acc: 0.3079\n",
      "Epoch 12/100\n",
      "1650/1650 [==============================] - 0s 30us/sample - loss: 3.4780 - acc: 0.2939\n",
      "Epoch 13/100\n",
      "1650/1650 [==============================] - 0s 26us/sample - loss: 3.4010 - acc: 0.3109\n",
      "Epoch 14/100\n",
      "1650/1650 [==============================] - 0s 30us/sample - loss: 3.3395 - acc: 0.3176\n",
      "Epoch 15/100\n",
      "1650/1650 [==============================] - 0s 32us/sample - loss: 3.3183 - acc: 0.3406\n",
      "Epoch 16/100\n",
      "1650/1650 [==============================] - 0s 32us/sample - loss: 3.2156 - acc: 0.3648\n",
      "Epoch 17/100\n",
      "1650/1650 [==============================] - 0s 33us/sample - loss: 3.2188 - acc: 0.3491\n",
      "Epoch 18/100\n",
      "1650/1650 [==============================] - 0s 33us/sample - loss: 3.1582 - acc: 0.3624\n",
      "Epoch 19/100\n",
      "1650/1650 [==============================] - 0s 41us/sample - loss: 3.1302 - acc: 0.3709\n",
      "Epoch 20/100\n",
      "1650/1650 [==============================] - 0s 44us/sample - loss: 3.0745 - acc: 0.3667\n",
      "Epoch 21/100\n",
      "1650/1650 [==============================] - 0s 41us/sample - loss: 3.0469 - acc: 0.3891\n",
      "Epoch 22/100\n",
      "1650/1650 [==============================] - 0s 39us/sample - loss: 3.0319 - acc: 0.3988\n",
      "Epoch 23/100\n",
      "1650/1650 [==============================] - 0s 40us/sample - loss: 3.1384 - acc: 0.3679\n",
      "Epoch 24/100\n",
      "1650/1650 [==============================] - 0s 36us/sample - loss: 2.9777 - acc: 0.4055\n",
      "Epoch 25/100\n",
      "1650/1650 [==============================] - 0s 35us/sample - loss: 2.9701 - acc: 0.4000\n",
      "Epoch 26/100\n",
      "1650/1650 [==============================] - 0s 42us/sample - loss: 3.0067 - acc: 0.3939\n",
      "Epoch 27/100\n",
      "1650/1650 [==============================] - 0s 43us/sample - loss: 2.9501 - acc: 0.4152\n",
      "Epoch 28/100\n",
      "1650/1650 [==============================] - 0s 42us/sample - loss: 2.9609 - acc: 0.4000\n",
      "Epoch 29/100\n",
      "1650/1650 [==============================] - 0s 44us/sample - loss: 2.9540 - acc: 0.4073\n",
      "Epoch 30/100\n",
      "1650/1650 [==============================] - 0s 42us/sample - loss: 2.9434 - acc: 0.4042\n",
      "Epoch 31/100\n",
      "1650/1650 [==============================] - 0s 42us/sample - loss: 2.9390 - acc: 0.4242\n",
      "Epoch 32/100\n",
      "1650/1650 [==============================] - 0s 41us/sample - loss: 2.9043 - acc: 0.4370\n",
      "Epoch 33/100\n",
      "1650/1650 [==============================] - 0s 39us/sample - loss: 2.9030 - acc: 0.4315\n",
      "Epoch 34/100\n",
      "1650/1650 [==============================] - 0s 32us/sample - loss: 2.9027 - acc: 0.4370\n",
      "Epoch 35/100\n",
      "1650/1650 [==============================] - 0s 34us/sample - loss: 2.9942 - acc: 0.4303\n",
      "Epoch 36/100\n",
      "1650/1650 [==============================] - 0s 45us/sample - loss: 2.8738 - acc: 0.4491\n",
      "Epoch 37/100\n",
      "1650/1650 [==============================] - 0s 46us/sample - loss: 2.9274 - acc: 0.4255\n",
      "Epoch 38/100\n",
      "1650/1650 [==============================] - 0s 38us/sample - loss: 2.8861 - acc: 0.4406\n",
      "Epoch 39/100\n",
      "1650/1650 [==============================] - 0s 38us/sample - loss: 2.8571 - acc: 0.4521\n",
      "Epoch 40/100\n",
      "1650/1650 [==============================] - 0s 37us/sample - loss: 2.8855 - acc: 0.4515\n",
      "Epoch 41/100\n",
      "1650/1650 [==============================] - 0s 36us/sample - loss: 2.8552 - acc: 0.4436\n",
      "Epoch 42/100\n",
      "1650/1650 [==============================] - 0s 38us/sample - loss: 2.8405 - acc: 0.4564\n",
      "Epoch 43/100\n",
      "1650/1650 [==============================] - 0s 40us/sample - loss: 2.8367 - acc: 0.4679\n",
      "Epoch 44/100\n",
      "1650/1650 [==============================] - 0s 36us/sample - loss: 2.8370 - acc: 0.4503\n",
      "Epoch 45/100\n",
      "1650/1650 [==============================] - 0s 37us/sample - loss: 2.8464 - acc: 0.4570\n",
      "Epoch 46/100\n",
      "1650/1650 [==============================] - 0s 36us/sample - loss: 2.8430 - acc: 0.4545\n",
      "Epoch 47/100\n",
      "1650/1650 [==============================] - 0s 36us/sample - loss: 2.8191 - acc: 0.4497\n",
      "Epoch 48/100\n",
      "1650/1650 [==============================] - 0s 38us/sample - loss: 2.8361 - acc: 0.4485\n",
      "Epoch 49/100\n",
      "1650/1650 [==============================] - 0s 45us/sample - loss: 2.7572 - acc: 0.4794\n",
      "Epoch 50/100\n",
      "1650/1650 [==============================] - 0s 48us/sample - loss: 2.7728 - acc: 0.4709\n",
      "Epoch 51/100\n",
      "1650/1650 [==============================] - 0s 41us/sample - loss: 2.7422 - acc: 0.4691\n",
      "Epoch 52/100\n",
      "1650/1650 [==============================] - 0s 43us/sample - loss: 2.7346 - acc: 0.4624\n",
      "Epoch 53/100\n",
      "1650/1650 [==============================] - 0s 40us/sample - loss: 2.7345 - acc: 0.4679\n",
      "Epoch 54/100\n",
      "1650/1650 [==============================] - 0s 47us/sample - loss: 2.6900 - acc: 0.4903\n",
      "Epoch 55/100\n",
      "1650/1650 [==============================] - 0s 52us/sample - loss: 2.7496 - acc: 0.4521\n",
      "Epoch 56/100\n",
      "1650/1650 [==============================] - 0s 53us/sample - loss: 2.7319 - acc: 0.4570\n",
      "Epoch 57/100\n",
      "1650/1650 [==============================] - 0s 49us/sample - loss: 2.7021 - acc: 0.4739\n",
      "Epoch 58/100\n",
      "1650/1650 [==============================] - 0s 50us/sample - loss: 2.6679 - acc: 0.4745\n",
      "Epoch 59/100\n",
      "1650/1650 [==============================] - 0s 41us/sample - loss: 2.6743 - acc: 0.4752\n",
      "Epoch 60/100\n",
      "1650/1650 [==============================] - 0s 39us/sample - loss: 2.6618 - acc: 0.4897\n",
      "Epoch 61/100\n",
      "1650/1650 [==============================] - 0s 39us/sample - loss: 2.6513 - acc: 0.4794\n",
      "Epoch 62/100\n",
      "1650/1650 [==============================] - 0s 43us/sample - loss: 2.6572 - acc: 0.4727\n",
      "Epoch 63/100\n",
      "1650/1650 [==============================] - 0s 38us/sample - loss: 2.6484 - acc: 0.4673\n",
      "Epoch 64/100\n",
      "1650/1650 [==============================] - 0s 41us/sample - loss: 2.6479 - acc: 0.4733\n",
      "Epoch 65/100\n",
      "1650/1650 [==============================] - 0s 48us/sample - loss: 2.6832 - acc: 0.4612\n",
      "Epoch 66/100\n",
      "1650/1650 [==============================] - 0s 47us/sample - loss: 2.6480 - acc: 0.4600\n",
      "Epoch 67/100\n",
      "1650/1650 [==============================] - 0s 42us/sample - loss: 2.6620 - acc: 0.4558\n",
      "Epoch 68/100\n",
      "1650/1650 [==============================] - 0s 32us/sample - loss: 2.6485 - acc: 0.4606\n",
      "Epoch 69/100\n",
      "1650/1650 [==============================] - 0s 35us/sample - loss: 2.6305 - acc: 0.4630\n",
      "Epoch 70/100\n",
      "1650/1650 [==============================] - 0s 32us/sample - loss: 2.6200 - acc: 0.4564\n",
      "Epoch 71/100\n",
      "1650/1650 [==============================] - 0s 43us/sample - loss: 2.6209 - acc: 0.4697\n",
      "Epoch 72/100\n",
      "1650/1650 [==============================] - 0s 48us/sample - loss: 2.6078 - acc: 0.4661\n",
      "Epoch 73/100\n",
      "1650/1650 [==============================] - 0s 56us/sample - loss: 2.6185 - acc: 0.4570\n",
      "Epoch 74/100\n",
      "1650/1650 [==============================] - 0s 42us/sample - loss: 2.6155 - acc: 0.4558\n",
      "Epoch 75/100\n",
      "1650/1650 [==============================] - 0s 42us/sample - loss: 2.5993 - acc: 0.4636\n",
      "Epoch 76/100\n",
      "1650/1650 [==============================] - 0s 42us/sample - loss: 2.5920 - acc: 0.4642\n",
      "Epoch 77/100\n",
      "1650/1650 [==============================] - 0s 41us/sample - loss: 2.5772 - acc: 0.4709\n",
      "Epoch 78/100\n",
      "1650/1650 [==============================] - 0s 47us/sample - loss: 2.5836 - acc: 0.4576\n",
      "Epoch 79/100\n",
      "1650/1650 [==============================] - 0s 38us/sample - loss: 2.5940 - acc: 0.4455\n",
      "Epoch 80/100\n",
      "1650/1650 [==============================] - 0s 38us/sample - loss: 2.5621 - acc: 0.4770\n",
      "Epoch 81/100\n"
     ]
    },
    {
     "name": "stdout",
     "output_type": "stream",
     "text": [
      "1650/1650 [==============================] - 0s 40us/sample - loss: 2.5502 - acc: 0.4648\n",
      "Epoch 82/100\n",
      "1650/1650 [==============================] - 0s 39us/sample - loss: 2.5454 - acc: 0.4830\n",
      "Epoch 83/100\n",
      "1650/1650 [==============================] - 0s 42us/sample - loss: 2.5418 - acc: 0.4855\n",
      "Epoch 84/100\n",
      "1650/1650 [==============================] - 0s 39us/sample - loss: 2.5318 - acc: 0.4782\n",
      "Epoch 85/100\n",
      "1650/1650 [==============================] - 0s 33us/sample - loss: 2.5529 - acc: 0.4685\n",
      "Epoch 86/100\n",
      "1650/1650 [==============================] - 0s 39us/sample - loss: 2.5306 - acc: 0.5091\n",
      "Epoch 87/100\n",
      "1650/1650 [==============================] - 0s 37us/sample - loss: 2.5357 - acc: 0.5236\n",
      "Epoch 88/100\n",
      "1650/1650 [==============================] - 0s 51us/sample - loss: 2.5107 - acc: 0.5291\n",
      "Epoch 89/100\n",
      "1650/1650 [==============================] - 0s 52us/sample - loss: 2.5347 - acc: 0.5127\n",
      "Epoch 90/100\n",
      "1650/1650 [==============================] - 0s 70us/sample - loss: 2.5046 - acc: 0.5255\n",
      "Epoch 91/100\n",
      "1650/1650 [==============================] - 0s 59us/sample - loss: 2.4876 - acc: 0.5230\n",
      "Epoch 92/100\n",
      "1650/1650 [==============================] - 0s 55us/sample - loss: 2.4925 - acc: 0.5279\n",
      "Epoch 93/100\n",
      "1650/1650 [==============================] - 0s 35us/sample - loss: 2.4702 - acc: 0.5327\n",
      "Epoch 94/100\n",
      "1650/1650 [==============================] - 0s 37us/sample - loss: 2.4937 - acc: 0.5418\n",
      "Epoch 95/100\n",
      "1650/1650 [==============================] - 0s 41us/sample - loss: 2.4299 - acc: 0.5539\n",
      "Epoch 96/100\n",
      "1650/1650 [==============================] - 0s 44us/sample - loss: 2.4674 - acc: 0.5467\n",
      "Epoch 97/100\n",
      "1650/1650 [==============================] - 0s 47us/sample - loss: 2.4061 - acc: 0.5612\n",
      "Epoch 98/100\n",
      "1650/1650 [==============================] - 0s 35us/sample - loss: 2.4411 - acc: 0.5642\n",
      "Epoch 99/100\n",
      "1650/1650 [==============================] - 0s 32us/sample - loss: 2.3569 - acc: 0.5903\n",
      "Epoch 100/100\n",
      "1650/1650 [==============================] - 0s 38us/sample - loss: 2.3220 - acc: 0.6079\n"
     ]
    }
   ],
   "source": [
    "history = model.fit(X_train, y_train, epochs=100, batch_size=64)"
   ]
  },
  {
   "cell_type": "code",
   "execution_count": 13,
   "metadata": {},
   "outputs": [],
   "source": [
    "predictions = model.predict_classes(X_test)"
   ]
  },
  {
   "cell_type": "code",
   "execution_count": 14,
   "metadata": {},
   "outputs": [],
   "source": [
    "from sklearn.metrics import classification_report,confusion_matrix"
   ]
  },
  {
   "cell_type": "code",
   "execution_count": 15,
   "metadata": {},
   "outputs": [
    {
     "name": "stdout",
     "output_type": "stream",
     "text": [
      "              precision    recall  f1-score   support\n",
      "\n",
      "           0       0.00      0.00      0.00        29\n",
      "           1       0.79      0.65      0.71        23\n",
      "           2       0.76      0.54      0.63        24\n",
      "           3       0.41      1.00      0.58        31\n",
      "           4       0.45      0.93      0.60        27\n",
      "           5       0.40      1.00      0.57        26\n",
      "           6       0.00      0.00      0.00        21\n",
      "           7       0.00      0.00      0.00        19\n",
      "           8       0.00      0.00      0.00        27\n",
      "           9       0.69      0.92      0.79        24\n",
      "          10       0.62      0.87      0.72        15\n",
      "          11       0.52      0.48      0.50        23\n",
      "          12       0.75      0.33      0.46        27\n",
      "          13       0.45      0.38      0.42        26\n",
      "          14       1.00      0.92      0.96        26\n",
      "          15       0.57      0.91      0.70        22\n",
      "          16       0.90      1.00      0.95        19\n",
      "          17       0.64      0.81      0.71        31\n",
      "          18       0.91      0.62      0.74        34\n",
      "          19       0.00      0.00      0.00        30\n",
      "          20       0.37      0.96      0.53        25\n",
      "          21       0.00      0.00      0.00        21\n",
      "\n",
      "   micro avg       0.56      0.56      0.56       550\n",
      "   macro avg       0.47      0.56      0.48       550\n",
      "weighted avg       0.47      0.56      0.48       550\n",
      "\n"
     ]
    },
    {
     "name": "stderr",
     "output_type": "stream",
     "text": [
      "C:\\Users\\ABHI\\Anaconda3\\lib\\site-packages\\sklearn\\metrics\\classification.py:1143: UndefinedMetricWarning: Precision and F-score are ill-defined and being set to 0.0 in labels with no predicted samples.\n",
      "  'precision', 'predicted', average, warn_for)\n",
      "C:\\Users\\ABHI\\Anaconda3\\lib\\site-packages\\sklearn\\metrics\\classification.py:1143: UndefinedMetricWarning: Precision and F-score are ill-defined and being set to 0.0 in labels with no predicted samples.\n",
      "  'precision', 'predicted', average, warn_for)\n",
      "C:\\Users\\ABHI\\Anaconda3\\lib\\site-packages\\sklearn\\metrics\\classification.py:1143: UndefinedMetricWarning: Precision and F-score are ill-defined and being set to 0.0 in labels with no predicted samples.\n",
      "  'precision', 'predicted', average, warn_for)\n"
     ]
    }
   ],
   "source": [
    "print(classification_report(y_test,predictions))"
   ]
  },
  {
   "cell_type": "code",
   "execution_count": 17,
   "metadata": {},
   "outputs": [
    {
     "data": {
      "text/plain": [
       "array([15,  5, 17, 17,  3, 17,  3, 17, 14, 10,  2,  4,  4, 20, 19,  4, 20,\n",
       "       15, 17, 15,  5, 17, 16, 17,  3, 20, 14, 16, 18, 20,  4, 13, 20, 10,\n",
       "       20, 13, 20,  3,  3,  9, 17, 17, 10,  5, 14,  9, 13,  4, 15,  5,  2,\n",
       "        5,  3, 16,  5,  9, 15,  3,  5, 13,  5, 19, 13, 16, 17, 13, 16, 20,\n",
       "        6, 12, 15,  4, 20,  1,  2, 17,  1, 11,  5, 16,  5,  3, 20, 17, 16,\n",
       "       20,  5,  2,  2,  4, 11, 17,  5, 20, 18,  9,  9,  5, 10, 10,  4, 20,\n",
       "       16, 15,  5,  1,  5,  5, 12, 13, 11, 20,  5,  4, 17,  3,  1,  4,  4,\n",
       "       20, 18,  3, 13,  4,  3, 13,  4, 11,  1, 13,  1,  9,  4,  3,  4, 16,\n",
       "       18,  1,  1,  3,  9, 11, 14,  9,  4,  5,  3,  4,  9, 17, 14, 10, 15,\n",
       "       14, 18, 13, 18,  9, 11, 20,  3,  3, 16,  5, 20,  4,  3, 10,  5,  3,\n",
       "        3,  2,  4,  3,  4,  5, 10,  3,  5, 20,  5,  5,  9, 20,  9,  9,  1,\n",
       "        9,  4, 17, 17, 14, 12,  4,  5,  9,  2,  3,  2,  3,  3,  3,  5, 15,\n",
       "       20,  4, 14,  1, 20, 16, 11,  3,  3,  3,  3, 20,  9, 17,  5,  2,  9,\n",
       "       12, 12,  4, 20,  3,  3,  4,  3, 15,  3, 15, 15, 12, 20, 15,  4,  4,\n",
       "       20, 15,  5, 17, 10, 11, 12, 15,  9, 14,  5,  3,  4, 15, 18, 20,  3,\n",
       "        4,  5,  3,  5, 20, 20,  5, 17,  3,  3, 20, 13, 13, 14, 20,  4,  3,\n",
       "       18, 17, 11,  4, 15,  3,  1,  5,  4,  5,  1, 15, 20,  5, 18, 13, 16,\n",
       "        3,  5,  5,  3,  3,  5, 18, 16,  3,  4, 17, 11, 17, 20,  3,  4,  3,\n",
       "       17, 10,  3,  4,  3, 12,  3,  4,  5,  9, 14, 15,  5,  9, 15, 17, 20,\n",
       "        2,  3,  1, 10, 18, 17,  9, 14,  4, 15,  3,  3, 10,  1, 20,  3,  4,\n",
       "       20, 14, 15,  5,  5,  9, 20,  9,  1,  1, 20, 11, 18, 12,  9,  4,  5,\n",
       "        2, 11, 20, 10, 18, 12, 11, 17, 13, 11, 14, 16, 20,  2, 14,  5,  1,\n",
       "       18, 17,  3,  4, 11, 20,  4,  3,  2,  5, 17, 10,  4,  2, 20, 14, 15,\n",
       "        5,  3,  3,  4,  3,  5, 20, 20, 20,  5,  4,  1,  3, 20, 16, 15, 20,\n",
       "       17, 15, 13, 20,  3, 13,  4,  5, 13, 15, 20,  5, 10, 20,  4, 13, 10,\n",
       "       11, 20,  5,  4, 16,  4,  9,  5, 14, 13, 20, 20, 15, 15, 18, 16,  2,\n",
       "       10,  5, 17, 11,  3,  4, 17, 11, 14, 18,  3, 20,  5, 18,  5, 20, 20,\n",
       "       17, 10,  3, 20, 16, 14, 20,  9,  3, 14, 16, 18,  1, 20,  9,  4,  5,\n",
       "       15, 10, 17, 12,  4,  9,  3, 14, 14, 20,  9, 15, 17, 13, 18, 15, 20,\n",
       "        4, 15,  9,  3, 14, 20,  9,  3, 20, 20, 17,  2, 15,  4, 18, 17, 10,\n",
       "        5,  3, 15, 11,  9,  3, 14,  5,  5, 16, 11, 16,  3,  5, 18, 12,  3,\n",
       "       11,  4,  5, 18,  5,  3, 15,  4, 17,  3, 13, 18,  5, 17,  2,  3, 10,\n",
       "       20,  5,  4,  3,  5, 20], dtype=int64)"
      ]
     },
     "execution_count": 17,
     "metadata": {},
     "output_type": "execute_result"
    }
   ],
   "source": [
    "predictions"
   ]
  },
  {
   "cell_type": "code",
   "execution_count": 18,
   "metadata": {},
   "outputs": [
    {
     "ename": "ValueError",
     "evalue": "Error when checking input: expected dense_input to have shape (7,) but got array with shape (1,)",
     "output_type": "error",
     "traceback": [
      "\u001b[1;31m---------------------------------------------------------------------------\u001b[0m",
      "\u001b[1;31mValueError\u001b[0m                                Traceback (most recent call last)",
      "\u001b[1;32m<ipython-input-18-5f22a5fbcad5>\u001b[0m in \u001b[0;36m<module>\u001b[1;34m\u001b[0m\n\u001b[1;32m----> 1\u001b[1;33m \u001b[0mans\u001b[0m \u001b[1;33m=\u001b[0m\u001b[0mmodel\u001b[0m\u001b[1;33m.\u001b[0m\u001b[0mpredict\u001b[0m\u001b[1;33m(\u001b[0m\u001b[1;33m[\u001b[0m\u001b[1;33m[\u001b[0m\u001b[1;36m93\u001b[0m\u001b[1;33m,\u001b[0m\u001b[1;36m56\u001b[0m\u001b[1;33m,\u001b[0m\u001b[1;36m36\u001b[0m\u001b[1;33m,\u001b[0m\u001b[1;36m24.01497622\u001b[0m\u001b[1;33m,\u001b[0m\u001b[1;36m82.05687182\u001b[0m\u001b[1;33m,\u001b[0m\u001b[1;36m6.98435366\u001b[0m\u001b[1;33m,\u001b[0m\u001b[1;36m185.2773389\u001b[0m\u001b[1;33m]\u001b[0m\u001b[1;33m]\u001b[0m\u001b[1;33m)\u001b[0m\u001b[1;33m\u001b[0m\u001b[1;33m\u001b[0m\u001b[0m\n\u001b[0m",
      "\u001b[1;32m~\\Anaconda3\\lib\\site-packages\\tensorflow\\python\\keras\\engine\\training.py\u001b[0m in \u001b[0;36mpredict\u001b[1;34m(self, x, batch_size, verbose, steps, max_queue_size, workers, use_multiprocessing)\u001b[0m\n\u001b[0;32m   1094\u001b[0m       \u001b[1;31m# batch size.\u001b[0m\u001b[1;33m\u001b[0m\u001b[1;33m\u001b[0m\u001b[1;33m\u001b[0m\u001b[0m\n\u001b[0;32m   1095\u001b[0m       x, _, _ = self._standardize_user_data(\n\u001b[1;32m-> 1096\u001b[1;33m           x, check_steps=True, steps_name='steps', steps=steps)\n\u001b[0m\u001b[0;32m   1097\u001b[0m \u001b[1;33m\u001b[0m\u001b[0m\n\u001b[0;32m   1098\u001b[0m     if (self.run_eagerly or (isinstance(x, iterator_ops.EagerIterator) and\n",
      "\u001b[1;32m~\\Anaconda3\\lib\\site-packages\\tensorflow\\python\\keras\\engine\\training.py\u001b[0m in \u001b[0;36m_standardize_user_data\u001b[1;34m(self, x, y, sample_weight, class_weight, batch_size, check_steps, steps_name, steps, validation_split, shuffle)\u001b[0m\n\u001b[0;32m   2380\u001b[0m         \u001b[0mfeed_input_shapes\u001b[0m\u001b[1;33m,\u001b[0m\u001b[1;33m\u001b[0m\u001b[1;33m\u001b[0m\u001b[0m\n\u001b[0;32m   2381\u001b[0m         \u001b[0mcheck_batch_axis\u001b[0m\u001b[1;33m=\u001b[0m\u001b[1;32mFalse\u001b[0m\u001b[1;33m,\u001b[0m  \u001b[1;31m# Don't enforce the batch size.\u001b[0m\u001b[1;33m\u001b[0m\u001b[1;33m\u001b[0m\u001b[0m\n\u001b[1;32m-> 2382\u001b[1;33m         exception_prefix='input')\n\u001b[0m\u001b[0;32m   2383\u001b[0m \u001b[1;33m\u001b[0m\u001b[0m\n\u001b[0;32m   2384\u001b[0m     \u001b[1;32mif\u001b[0m \u001b[0my\u001b[0m \u001b[1;32mis\u001b[0m \u001b[1;32mnot\u001b[0m \u001b[1;32mNone\u001b[0m\u001b[1;33m:\u001b[0m\u001b[1;33m\u001b[0m\u001b[1;33m\u001b[0m\u001b[0m\n",
      "\u001b[1;32m~\\Anaconda3\\lib\\site-packages\\tensorflow\\python\\keras\\engine\\training_utils.py\u001b[0m in \u001b[0;36mstandardize_input_data\u001b[1;34m(data, names, shapes, check_batch_axis, exception_prefix)\u001b[0m\n\u001b[0;32m    360\u001b[0m                 \u001b[1;34m'Error when checking '\u001b[0m \u001b[1;33m+\u001b[0m \u001b[0mexception_prefix\u001b[0m \u001b[1;33m+\u001b[0m \u001b[1;34m': expected '\u001b[0m \u001b[1;33m+\u001b[0m\u001b[1;33m\u001b[0m\u001b[1;33m\u001b[0m\u001b[0m\n\u001b[0;32m    361\u001b[0m                 \u001b[0mnames\u001b[0m\u001b[1;33m[\u001b[0m\u001b[0mi\u001b[0m\u001b[1;33m]\u001b[0m \u001b[1;33m+\u001b[0m \u001b[1;34m' to have shape '\u001b[0m \u001b[1;33m+\u001b[0m \u001b[0mstr\u001b[0m\u001b[1;33m(\u001b[0m\u001b[0mshape\u001b[0m\u001b[1;33m)\u001b[0m \u001b[1;33m+\u001b[0m\u001b[1;33m\u001b[0m\u001b[1;33m\u001b[0m\u001b[0m\n\u001b[1;32m--> 362\u001b[1;33m                 ' but got array with shape ' + str(data_shape))\n\u001b[0m\u001b[0;32m    363\u001b[0m   \u001b[1;32mreturn\u001b[0m \u001b[0mdata\u001b[0m\u001b[1;33m\u001b[0m\u001b[1;33m\u001b[0m\u001b[0m\n\u001b[0;32m    364\u001b[0m \u001b[1;33m\u001b[0m\u001b[0m\n",
      "\u001b[1;31mValueError\u001b[0m: Error when checking input: expected dense_input to have shape (7,) but got array with shape (1,)"
     ]
    }
   ],
   "source": [
    "ans =model.predict([[93,56,36,24.01497622,82.05687182,6.98435366,185.2773389]])"
   ]
  },
  {
   "cell_type": "code",
   "execution_count": 19,
   "metadata": {},
   "outputs": [
    {
     "ename": "NameError",
     "evalue": "name 'ans' is not defined",
     "output_type": "error",
     "traceback": [
      "\u001b[1;31m---------------------------------------------------------------------------\u001b[0m",
      "\u001b[1;31mNameError\u001b[0m                                 Traceback (most recent call last)",
      "\u001b[1;32m<ipython-input-19-3327b5823df0>\u001b[0m in \u001b[0;36m<module>\u001b[1;34m\u001b[0m\n\u001b[1;32m----> 1\u001b[1;33m \u001b[0mindex_of_maximum\u001b[0m \u001b[1;33m=\u001b[0m \u001b[0mnp\u001b[0m\u001b[1;33m.\u001b[0m\u001b[0mwhere\u001b[0m\u001b[1;33m(\u001b[0m\u001b[0mans\u001b[0m\u001b[1;33m[\u001b[0m\u001b[1;36m0\u001b[0m\u001b[1;33m]\u001b[0m \u001b[1;33m==\u001b[0m \u001b[0mmax\u001b[0m\u001b[1;33m(\u001b[0m\u001b[0mans\u001b[0m\u001b[1;33m[\u001b[0m\u001b[1;36m0\u001b[0m\u001b[1;33m]\u001b[0m\u001b[1;33m)\u001b[0m\u001b[1;33m)\u001b[0m\u001b[1;33m\u001b[0m\u001b[1;33m\u001b[0m\u001b[0m\n\u001b[0m",
      "\u001b[1;31mNameError\u001b[0m: name 'ans' is not defined"
     ]
    }
   ],
   "source": [
    "index_of_maximum = np.where(ans[0] == max(ans[0]))"
   ]
  },
  {
   "cell_type": "code",
   "execution_count": 20,
   "metadata": {},
   "outputs": [
    {
     "ename": "NameError",
     "evalue": "name 'index_of_maximum' is not defined",
     "output_type": "error",
     "traceback": [
      "\u001b[1;31m---------------------------------------------------------------------------\u001b[0m",
      "\u001b[1;31mNameError\u001b[0m                                 Traceback (most recent call last)",
      "\u001b[1;32m<ipython-input-20-65c3bd4ca0c0>\u001b[0m in \u001b[0;36m<module>\u001b[1;34m\u001b[0m\n\u001b[1;32m----> 1\u001b[1;33m \u001b[0mindex_of_maximum\u001b[0m\u001b[1;33m\u001b[0m\u001b[1;33m\u001b[0m\u001b[0m\n\u001b[0m",
      "\u001b[1;31mNameError\u001b[0m: name 'index_of_maximum' is not defined"
     ]
    }
   ],
   "source": [
    "index_of_maximum"
   ]
  },
  {
   "cell_type": "code",
   "execution_count": 21,
   "metadata": {},
   "outputs": [
    {
     "ename": "ValueError",
     "evalue": "Error when checking input: expected dense_input to have shape (7,) but got array with shape (1,)",
     "output_type": "error",
     "traceback": [
      "\u001b[1;31m---------------------------------------------------------------------------\u001b[0m",
      "\u001b[1;31mValueError\u001b[0m                                Traceback (most recent call last)",
      "\u001b[1;32m<ipython-input-21-35c4ab8599d0>\u001b[0m in \u001b[0;36m<module>\u001b[1;34m\u001b[0m\n\u001b[1;32m----> 1\u001b[1;33m \u001b[0mmodel\u001b[0m\u001b[1;33m.\u001b[0m\u001b[0mpredict_classes\u001b[0m\u001b[1;33m(\u001b[0m\u001b[1;33m[\u001b[0m\u001b[1;33m[\u001b[0m\u001b[1;36m93\u001b[0m\u001b[1;33m,\u001b[0m\u001b[1;36m56\u001b[0m\u001b[1;33m,\u001b[0m\u001b[1;36m36\u001b[0m\u001b[1;33m,\u001b[0m\u001b[1;36m24.01497622\u001b[0m\u001b[1;33m,\u001b[0m\u001b[1;36m82.05687182\u001b[0m\u001b[1;33m,\u001b[0m\u001b[1;36m6.98435366\u001b[0m\u001b[1;33m,\u001b[0m\u001b[1;36m185.2773389\u001b[0m\u001b[1;33m]\u001b[0m\u001b[1;33m]\u001b[0m\u001b[1;33m)\u001b[0m\u001b[1;33m\u001b[0m\u001b[1;33m\u001b[0m\u001b[0m\n\u001b[0m",
      "\u001b[1;32m~\\Anaconda3\\lib\\site-packages\\tensorflow\\python\\keras\\engine\\sequential.py\u001b[0m in \u001b[0;36mpredict_classes\u001b[1;34m(self, x, batch_size, verbose)\u001b[0m\n\u001b[0;32m    309\u001b[0m         \u001b[0mA\u001b[0m \u001b[0mnumpy\u001b[0m \u001b[0marray\u001b[0m \u001b[0mof\u001b[0m \u001b[1;32mclass\u001b[0m \u001b[0mpredictions\u001b[0m\u001b[1;33m.\u001b[0m\u001b[1;33m\u001b[0m\u001b[1;33m\u001b[0m\u001b[0m\n\u001b[0;32m    310\u001b[0m     \"\"\"\n\u001b[1;32m--> 311\u001b[1;33m     \u001b[0mproba\u001b[0m \u001b[1;33m=\u001b[0m \u001b[0mself\u001b[0m\u001b[1;33m.\u001b[0m\u001b[0mpredict\u001b[0m\u001b[1;33m(\u001b[0m\u001b[0mx\u001b[0m\u001b[1;33m,\u001b[0m \u001b[0mbatch_size\u001b[0m\u001b[1;33m=\u001b[0m\u001b[0mbatch_size\u001b[0m\u001b[1;33m,\u001b[0m \u001b[0mverbose\u001b[0m\u001b[1;33m=\u001b[0m\u001b[0mverbose\u001b[0m\u001b[1;33m)\u001b[0m\u001b[1;33m\u001b[0m\u001b[1;33m\u001b[0m\u001b[0m\n\u001b[0m\u001b[0;32m    312\u001b[0m     \u001b[1;32mif\u001b[0m \u001b[0mproba\u001b[0m\u001b[1;33m.\u001b[0m\u001b[0mshape\u001b[0m\u001b[1;33m[\u001b[0m\u001b[1;33m-\u001b[0m\u001b[1;36m1\u001b[0m\u001b[1;33m]\u001b[0m \u001b[1;33m>\u001b[0m \u001b[1;36m1\u001b[0m\u001b[1;33m:\u001b[0m\u001b[1;33m\u001b[0m\u001b[1;33m\u001b[0m\u001b[0m\n\u001b[0;32m    313\u001b[0m       \u001b[1;32mreturn\u001b[0m \u001b[0mproba\u001b[0m\u001b[1;33m.\u001b[0m\u001b[0margmax\u001b[0m\u001b[1;33m(\u001b[0m\u001b[0maxis\u001b[0m\u001b[1;33m=\u001b[0m\u001b[1;33m-\u001b[0m\u001b[1;36m1\u001b[0m\u001b[1;33m)\u001b[0m\u001b[1;33m\u001b[0m\u001b[1;33m\u001b[0m\u001b[0m\n",
      "\u001b[1;32m~\\Anaconda3\\lib\\site-packages\\tensorflow\\python\\keras\\engine\\training.py\u001b[0m in \u001b[0;36mpredict\u001b[1;34m(self, x, batch_size, verbose, steps, max_queue_size, workers, use_multiprocessing)\u001b[0m\n\u001b[0;32m   1094\u001b[0m       \u001b[1;31m# batch size.\u001b[0m\u001b[1;33m\u001b[0m\u001b[1;33m\u001b[0m\u001b[1;33m\u001b[0m\u001b[0m\n\u001b[0;32m   1095\u001b[0m       x, _, _ = self._standardize_user_data(\n\u001b[1;32m-> 1096\u001b[1;33m           x, check_steps=True, steps_name='steps', steps=steps)\n\u001b[0m\u001b[0;32m   1097\u001b[0m \u001b[1;33m\u001b[0m\u001b[0m\n\u001b[0;32m   1098\u001b[0m     if (self.run_eagerly or (isinstance(x, iterator_ops.EagerIterator) and\n",
      "\u001b[1;32m~\\Anaconda3\\lib\\site-packages\\tensorflow\\python\\keras\\engine\\training.py\u001b[0m in \u001b[0;36m_standardize_user_data\u001b[1;34m(self, x, y, sample_weight, class_weight, batch_size, check_steps, steps_name, steps, validation_split, shuffle)\u001b[0m\n\u001b[0;32m   2380\u001b[0m         \u001b[0mfeed_input_shapes\u001b[0m\u001b[1;33m,\u001b[0m\u001b[1;33m\u001b[0m\u001b[1;33m\u001b[0m\u001b[0m\n\u001b[0;32m   2381\u001b[0m         \u001b[0mcheck_batch_axis\u001b[0m\u001b[1;33m=\u001b[0m\u001b[1;32mFalse\u001b[0m\u001b[1;33m,\u001b[0m  \u001b[1;31m# Don't enforce the batch size.\u001b[0m\u001b[1;33m\u001b[0m\u001b[1;33m\u001b[0m\u001b[0m\n\u001b[1;32m-> 2382\u001b[1;33m         exception_prefix='input')\n\u001b[0m\u001b[0;32m   2383\u001b[0m \u001b[1;33m\u001b[0m\u001b[0m\n\u001b[0;32m   2384\u001b[0m     \u001b[1;32mif\u001b[0m \u001b[0my\u001b[0m \u001b[1;32mis\u001b[0m \u001b[1;32mnot\u001b[0m \u001b[1;32mNone\u001b[0m\u001b[1;33m:\u001b[0m\u001b[1;33m\u001b[0m\u001b[1;33m\u001b[0m\u001b[0m\n",
      "\u001b[1;32m~\\Anaconda3\\lib\\site-packages\\tensorflow\\python\\keras\\engine\\training_utils.py\u001b[0m in \u001b[0;36mstandardize_input_data\u001b[1;34m(data, names, shapes, check_batch_axis, exception_prefix)\u001b[0m\n\u001b[0;32m    360\u001b[0m                 \u001b[1;34m'Error when checking '\u001b[0m \u001b[1;33m+\u001b[0m \u001b[0mexception_prefix\u001b[0m \u001b[1;33m+\u001b[0m \u001b[1;34m': expected '\u001b[0m \u001b[1;33m+\u001b[0m\u001b[1;33m\u001b[0m\u001b[1;33m\u001b[0m\u001b[0m\n\u001b[0;32m    361\u001b[0m                 \u001b[0mnames\u001b[0m\u001b[1;33m[\u001b[0m\u001b[0mi\u001b[0m\u001b[1;33m]\u001b[0m \u001b[1;33m+\u001b[0m \u001b[1;34m' to have shape '\u001b[0m \u001b[1;33m+\u001b[0m \u001b[0mstr\u001b[0m\u001b[1;33m(\u001b[0m\u001b[0mshape\u001b[0m\u001b[1;33m)\u001b[0m \u001b[1;33m+\u001b[0m\u001b[1;33m\u001b[0m\u001b[1;33m\u001b[0m\u001b[0m\n\u001b[1;32m--> 362\u001b[1;33m                 ' but got array with shape ' + str(data_shape))\n\u001b[0m\u001b[0;32m    363\u001b[0m   \u001b[1;32mreturn\u001b[0m \u001b[0mdata\u001b[0m\u001b[1;33m\u001b[0m\u001b[1;33m\u001b[0m\u001b[0m\n\u001b[0;32m    364\u001b[0m \u001b[1;33m\u001b[0m\u001b[0m\n",
      "\u001b[1;31mValueError\u001b[0m: Error when checking input: expected dense_input to have shape (7,) but got array with shape (1,)"
     ]
    }
   ],
   "source": [
    "model.predict_classes([[93,56,36,24.01497622,82.05687182,6.98435366,185.2773389]])"
   ]
  },
  {
   "cell_type": "code",
   "execution_count": 22,
   "metadata": {},
   "outputs": [],
   "source": [
    "from tensorflow.keras.models import load_model\n",
    "model.save('crop_model.h5') "
   ]
  },
  {
   "cell_type": "code",
   "execution_count": 23,
   "metadata": {},
   "outputs": [
    {
     "ename": "AttributeError",
     "evalue": "type object 'TFLiteConverter' has no attribute 'from_keras_model'",
     "output_type": "error",
     "traceback": [
      "\u001b[1;31m---------------------------------------------------------------------------\u001b[0m",
      "\u001b[1;31mAttributeError\u001b[0m                            Traceback (most recent call last)",
      "\u001b[1;32m<ipython-input-23-c4bd6023fb76>\u001b[0m in \u001b[0;36m<module>\u001b[1;34m\u001b[0m\n\u001b[0;32m      1\u001b[0m \u001b[0mmodel\u001b[0m \u001b[1;33m=\u001b[0m \u001b[0mtf\u001b[0m\u001b[1;33m.\u001b[0m\u001b[0mkeras\u001b[0m\u001b[1;33m.\u001b[0m\u001b[0mmodels\u001b[0m\u001b[1;33m.\u001b[0m\u001b[0mload_model\u001b[0m\u001b[1;33m(\u001b[0m\u001b[1;34m'crop_model.h5'\u001b[0m\u001b[1;33m)\u001b[0m\u001b[1;33m\u001b[0m\u001b[1;33m\u001b[0m\u001b[0m\n\u001b[1;32m----> 2\u001b[1;33m \u001b[0mconverter\u001b[0m \u001b[1;33m=\u001b[0m \u001b[0mtf\u001b[0m\u001b[1;33m.\u001b[0m\u001b[0mlite\u001b[0m\u001b[1;33m.\u001b[0m\u001b[0mTFLiteConverter\u001b[0m\u001b[1;33m.\u001b[0m\u001b[0mfrom_keras_model\u001b[0m\u001b[1;33m(\u001b[0m\u001b[0mmodel\u001b[0m\u001b[1;33m)\u001b[0m\u001b[1;33m\u001b[0m\u001b[1;33m\u001b[0m\u001b[0m\n\u001b[0m\u001b[0;32m      3\u001b[0m \u001b[0mtflite_model\u001b[0m \u001b[1;33m=\u001b[0m \u001b[0mconverter\u001b[0m\u001b[1;33m.\u001b[0m\u001b[0mconvert\u001b[0m\u001b[1;33m(\u001b[0m\u001b[1;33m)\u001b[0m\u001b[1;33m\u001b[0m\u001b[1;33m\u001b[0m\u001b[0m\n\u001b[0;32m      4\u001b[0m \u001b[0mopen\u001b[0m\u001b[1;33m(\u001b[0m\u001b[1;34m\"cropann_model.tflite\"\u001b[0m\u001b[1;33m,\u001b[0m \u001b[1;34m\"wb\"\u001b[0m\u001b[1;33m)\u001b[0m\u001b[1;33m.\u001b[0m\u001b[0mwrite\u001b[0m\u001b[1;33m(\u001b[0m\u001b[0mtflite_model\u001b[0m\u001b[1;33m)\u001b[0m\u001b[1;33m\u001b[0m\u001b[1;33m\u001b[0m\u001b[0m\n",
      "\u001b[1;31mAttributeError\u001b[0m: type object 'TFLiteConverter' has no attribute 'from_keras_model'"
     ]
    }
   ],
   "source": [
    "model = tf.keras.models.load_model('crop_model.h5')\n",
    "converter = tf.lite.TFLiteConverter.from_keras_model(model)\n",
    "tflite_model = converter.convert()\n",
    "open(\"cropann_model.tflite\", \"wb\").write(tflite_model)"
   ]
  },
  {
   "cell_type": "code",
   "execution_count": null,
   "metadata": {},
   "outputs": [],
   "source": [
    "model"
   ]
  },
  {
   "cell_type": "code",
   "execution_count": null,
   "metadata": {},
   "outputs": [],
   "source": []
  }
 ],
 "metadata": {
  "kernelspec": {
   "display_name": "Python 3",
   "language": "python",
   "name": "python3"
  },
  "language_info": {
   "codemirror_mode": {
    "name": "ipython",
    "version": 3
   },
   "file_extension": ".py",
   "mimetype": "text/x-python",
   "name": "python",
   "nbconvert_exporter": "python",
   "pygments_lexer": "ipython3",
   "version": "3.7.3"
  }
 },
 "nbformat": 4,
 "nbformat_minor": 4
}
